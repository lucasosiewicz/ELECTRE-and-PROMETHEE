{
 "cells": [
  {
   "cell_type": "code",
   "execution_count": null,
   "metadata": {},
   "outputs": [],
   "source": [
    "import pandas as pd\n",
    "import numpy as np"
   ]
  },
  {
   "cell_type": "code",
   "execution_count": null,
   "metadata": {},
   "outputs": [],
   "source": [
    "data = pd.read_csv('data.csv', sep=',')\n",
    "data.pop('Lp.')\n",
    "data.head()"
   ]
  },
  {
   "cell_type": "code",
   "execution_count": null,
   "metadata": {},
   "outputs": [],
   "source": [
    "def gain_type_concordance(a, b, p, q):\n",
    "    # Współczynnik zgodności dla kryterium typu zysk\n",
    "    if a - b >= -q:\n",
    "        return 1\n",
    "    elif a - b < -p:\n",
    "        return 0\n",
    "    else:\n",
    "        return (p - (b - a))  / (p - q)\n",
    "    \n",
    "def cost_type_concordance(a, b, p, q):\n",
    "    # Współczynnik zgodności dla kryterium typu koszt\n",
    "    if a - b <= q:\n",
    "        return 1\n",
    "    elif a - b > p:\n",
    "        return 0\n",
    "    else:\n",
    "        return (p - (a - b)) / (p - q)\n",
    "\n",
    "def count_marginal_concordace(p, q):\n",
    "    struct = np.zeros((data.shape[0], data.shape[0], data.shape[1]))\n",
    "\n",
    "    for i, a in enumerate(data.values):\n",
    "        for j, b in enumerate(data.values):\n",
    "            if i == j:\n",
    "                struct[i, j, :] = 1\n",
    "                continue\n",
    "            for k, g in enumerate(a):\n",
    "                if k != 1:\n",
    "                    struct[i, j, k] = gain_type_concordance(g, b[k], p[k], q[k])\n",
    "                else:\n",
    "                    struct[i, j, k] = cost_type_concordance(g, b[k], p[k], q[k])\n",
    "\n",
    "    return struct\n",
    "\n",
    "c = count_marginal_concordace([200, 2, 1000, 1000], [100, 4, 500, 500])"
   ]
  },
  {
   "cell_type": "code",
   "execution_count": null,
   "metadata": {},
   "outputs": [],
   "source": [
    "def gain_type_discordance(a, b, p, v):\n",
    "    # Współczynnik niezgodności dla kryterium typu zysk\n",
    "    if a - b <= -v:\n",
    "        return 1\n",
    "    elif a - b >= -p:\n",
    "        return 0\n",
    "    else:\n",
    "        return ((b - a) - p)  / (v - p)\n",
    "    \n",
    "\n",
    "def cost_type_discordance(a, b, p, v):\n",
    "    # Współczynnik niezgodności dla kryterium typu koszt\n",
    "    if a - b >= v:\n",
    "        return 1\n",
    "    elif a - b <= p:\n",
    "        return 0\n",
    "    else:\n",
    "        return (v - (a - b)) / (v - p)\n",
    "    \n",
    "\n",
    "def count_marginal_discordace(p, v, c):\n",
    "    struct = np.zeros((data.shape[0], data.shape[0], data.shape[1]))\n",
    "\n",
    "    for i, a in enumerate(data.values):\n",
    "        for j, b in enumerate(data.values):\n",
    "            if i == j:\n",
    "                struct[i, j, :] = 0\n",
    "                continue\n",
    "            for k, g in enumerate(a):\n",
    "                if k != 1:\n",
    "                    struct[i, j, k] = gain_type_discordance(g, b[k], p[k], v[k]) if c[i, j, k] == 0 else 0\n",
    "                else:\n",
    "                    struct[i, j, k] = cost_type_discordance(g, b[k], p[k], v[k]) if c[i, j, k] == 0 else 0\n",
    "\n",
    "    return struct\n",
    "    \n",
    "d = count_marginal_discordace([200, 2, 1000, 1000], [300, 6, 1500, 1500], c)"
   ]
  },
  {
   "cell_type": "code",
   "execution_count": null,
   "metadata": {},
   "outputs": [],
   "source": [
    "weights = [4, 4, 2, 3]\n",
    "\n",
    "def count_total_concordance(c, w):\n",
    "    return np.sum(c * w, axis=2) / np.sum(w)\n",
    "\n",
    "\n",
    "C = count_total_concordance(c, weights)"
   ]
  },
  {
   "cell_type": "code",
   "execution_count": null,
   "metadata": {},
   "outputs": [],
   "source": [
    "def count_outranking_credibility(C, d):\n",
    "    struct = np.zeros_like(C)\n",
    "    for i in range(data.shape[0]):\n",
    "        for j in range(data.shape[0]):\n",
    "            f = np.where(d[i, j, :] > C[i, j])\n",
    "            if len(f[0]) == 0:\n",
    "                struct[i, j] = C[i, j]\n",
    "            else:\n",
    "                if np.any(d[i, j, f] == 1):\n",
    "                    struct[i, j] = 0\n",
    "                else:\n",
    "                    struct[i, j] = C[i, j] * np.prod((1 - d[i, j, f]) / (1 - C[i, j]))\n",
    "    return struct\n",
    "\n",
    "R = count_outranking_credibility(C, d)"
   ]
  }
 ],
 "metadata": {
  "kernelspec": {
   "display_name": "Python 3",
   "language": "python",
   "name": "python3"
  },
  "language_info": {
   "codemirror_mode": {
    "name": "ipython",
    "version": 3
   },
   "file_extension": ".py",
   "mimetype": "text/x-python",
   "name": "python",
   "nbconvert_exporter": "python",
   "pygments_lexer": "ipython3",
   "version": "3.11.4"
  }
 },
 "nbformat": 4,
 "nbformat_minor": 2
}
